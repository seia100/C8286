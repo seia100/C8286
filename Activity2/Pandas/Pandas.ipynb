{
 "cells": [
  {
   "cell_type": "markdown",
   "metadata": {
    "id": "raUVz0R49bqt"
   },
   "source": [
    "### Pandas\n",
    "\n",
    "\n",
    "Pandas es un paquete Python de código abierto que proporciona estructuras de datos rápidas, flexibles y expresivas diseñadas para que trabajar con datos \"relacionales\" o \"etiquetados\" sea fácil e intuitivo.\n",
    "\n",
    "### Estructuras de datos\n",
    "Pandas presenta dos nuevas estructuras de datos en Python: Series y DataFrame, ambas construidas sobre NumPy (esto significa que es rápido).\n",
    "\n",
    "\n",
    "#### Serie\n",
    "\n",
    "Este es un objeto unidimensional similar a la columna en una hoja de cálculo o tabla SQL. De forma predeterminada, a cada elemento se le asignará una etiqueta de índice de `0` a `N`. "
   ]
  },
  {
   "cell_type": "code",
   "execution_count": null,
   "metadata": {
    "id": "_6Ivxpg87Xpu"
   },
   "outputs": [],
   "source": [
    "import pandas as pd\n",
    "import numpy as np\n",
    "import matplotlib.pyplot as plt"
   ]
  },
  {
   "cell_type": "code",
   "execution_count": null,
   "metadata": {
    "colab": {
     "base_uri": "https://localhost:8080/"
    },
    "id": "El1ASrOeAMve",
    "outputId": "7fcd603b-609a-426a-e6ca-d97fb3e9450f"
   },
   "outputs": [],
   "source": [
    "s = pd.Series([1,3,4,np.nan, 5, 6], index = ['A', 'B', 'C', 'D', 'E', 'F'])\n",
    "print(s)"
   ]
  },
  {
   "cell_type": "markdown",
   "metadata": {
    "id": "1V0ty8qDAwC8"
   },
   "source": [
    "Si creas una serie utilizando el diccionario, la clave se convertirá en el índice de forma predeterminada. "
   ]
  },
  {
   "cell_type": "code",
   "execution_count": null,
   "metadata": {
    "colab": {
     "base_uri": "https://localhost:8080/"
    },
    "id": "Gavd17DGAgfV",
    "outputId": "674a6168-f565-4cfa-e9e4-40d8eb92a3b0"
   },
   "outputs": [],
   "source": [
    "dict_ejemplo = {'A': 1, 'B':2, 'C':3, 'D':np.nan, 'E': 5, 'F': 6}\n",
    "dict_ejemplo"
   ]
  },
  {
   "cell_type": "code",
   "execution_count": null,
   "metadata": {
    "colab": {
     "base_uri": "https://localhost:8080/"
    },
    "id": "EDXTx0FlBTHj",
    "outputId": "5070e177-7d1f-4324-9877-6de987d693f8"
   },
   "outputs": [],
   "source": [
    "s = pd.Series(dict_ejemplo)\n",
    "print(s)"
   ]
  },
  {
   "cell_type": "markdown",
   "metadata": {},
   "source": [
    "La contraparte bidimensional de las series unidimensionales es el DataFrame."
   ]
  },
  {
   "cell_type": "markdown",
   "metadata": {
    "id": "khVQ3e1FBrPA"
   },
   "source": [
    "### DataFrame\n",
    "\n",
    "Es un objeto bidimensional similar a una hoja de cálculo o una tabla SQL. Este es el objeto Pandas más utilizado. \n"
   ]
  },
  {
   "cell_type": "code",
   "execution_count": null,
   "metadata": {
    "colab": {
     "base_uri": "https://localhost:8080/",
     "height": 143
    },
    "id": "HEEaxqFvBZeK",
    "outputId": "65b9b79e-718e-4df3-95df-87894a5ea39d"
   },
   "outputs": [],
   "source": [
    "data = {'Genero': ['F', 'M', 'M'],\n",
    "        'Emp_ID': ['E01', 'E02', 'E03'],\n",
    "        'Edad': [25, 27, 25]}\n",
    "# Si queremos el orden de las columnas, especificamos en el parametro columns\n",
    "df = pd.DataFrame(data, columns=['Emp_ID', 'Genero', 'Edad'])\n",
    "df "
   ]
  },
  {
   "cell_type": "markdown",
   "metadata": {
    "id": "VJvTVteQCuY6"
   },
   "source": [
    "#### Lectura y escritura de datos \n",
    "\n",
    "Veremos tres formatos de archivo de uso común: csv, archivo de texto y Excel. "
   ]
  },
  {
   "cell_type": "code",
   "execution_count": null,
   "metadata": {
    "colab": {
     "base_uri": "https://localhost:8080/",
     "height": 206
    },
    "id": "XCMbYN2TEmXV",
    "outputId": "6a4a97ea-cef8-40eb-fb99-af263f5bc991"
   },
   "outputs": [],
   "source": [
    "# Leyendo desde un archivo csv\n",
    "df=pd.read_csv('Data/mtcars.csv')\n",
    "df.head()"
   ]
  },
  {
   "cell_type": "code",
   "execution_count": null,
   "metadata": {
    "id": "4JoGt04EE_vr"
   },
   "outputs": [],
   "source": [
    "# Escribir un csv\n",
    "# index = False - no escribe los valores de indice, el valor predeterminado es True \n",
    "# completar"
   ]
  },
  {
   "cell_type": "code",
   "execution_count": null,
   "metadata": {
    "id": "YoHlMIShFRCt"
   },
   "outputs": [],
   "source": [
    "# Leyendo desde un archivo .txt\n",
    "# df=pd.read_csv('Data/mtcars.txt', sep='\\t')\n",
    "# completar"
   ]
  },
  {
   "cell_type": "code",
   "execution_count": null,
   "metadata": {
    "id": "e3Msn077GtuI"
   },
   "outputs": [],
   "source": [
    "# Leyendo un archivo Excel\n",
    "#df=pd.read_excel('Data/mtcars.xlsx','Sheet2')\n",
    "# Completar"
   ]
  },
  {
   "cell_type": "markdown",
   "metadata": {
    "id": "xWCcg3JGI0NR"
   },
   "source": [
    "### Resumen de estadísticas básicas\n"
   ]
  },
  {
   "cell_type": "code",
   "execution_count": null,
   "metadata": {
    "colab": {
     "base_uri": "https://localhost:8080/",
     "height": 300
    },
    "id": "54NqMh47HBCZ",
    "outputId": "d1721cbb-6abb-49b5-a93e-c72b4fcc0c9a"
   },
   "outputs": [],
   "source": [
    "#df = pd.read_csv('Data/iris.csv')\n",
    "# completar"
   ]
  },
  {
   "cell_type": "markdown",
   "metadata": {
    "id": "wkI0064bJHE0"
   },
   "source": [
    "#### Covarianza\n",
    " "
   ]
  },
  {
   "cell_type": "code",
   "execution_count": null,
   "metadata": {
    "colab": {
     "base_uri": "https://localhost:8080/",
     "height": 175
    },
    "id": "GlwA10C4JAyU",
    "outputId": "2434b2de-96b4-4a9a-9d0e-38c7e865d22b"
   },
   "outputs": [],
   "source": [
    "# covarianza: devuelve la covarianza entre columnas adecuadas \n",
    "# completar"
   ]
  },
  {
   "cell_type": "markdown",
   "metadata": {
    "id": "6Rj-HfKeKkUY"
   },
   "source": [
    "#### Correlación\n"
   ]
  },
  {
   "cell_type": "code",
   "execution_count": null,
   "metadata": {
    "colab": {
     "base_uri": "https://localhost:8080/",
     "height": 175
    },
    "id": "H_TLYjm5KbkP",
    "outputId": "f83e8ed9-499f-48bb-fe3b-1471d7ff5cb8"
   },
   "outputs": [],
   "source": [
    "# completar"
   ]
  },
  {
   "cell_type": "markdown",
   "metadata": {
    "id": "J64xxx5-Lk5t"
   },
   "source": [
    "### Visualización de datos\n",
    "Pandas DataFrame viene con funciones integradas para ver los datos contenidos: \n",
    "\n",
    "* Mirando los `n` primeros registros, el valor predeterminado de `n` es 5 si no se especifica:  `df.head(n=2)`.\n",
    "\n",
    "* Mirando los `n` registros inferiores: `df.tail()`\n",
    "\n",
    "* Obtener los nombres de las columnas: `df.columns`\n",
    "\n",
    "* Obtener los tipos de datos de las columnas: `df.types`\n",
    "\n",
    "* Obtener el índice del dataframe: `df.index`\n",
    "\n",
    "* Obtener valores únicos: `df[column_name].unique()`\n",
    "\n",
    "* Obtener valores: `df.values`\n",
    "\n",
    "* Ordenar el dataframe: `df.sort_values(by =['Column1', 'Column2'], ascending=[True,True'])`\n",
    "\n",
    "* Seleccionar/ver por el nombre de la columna: `df[column_name]`\n",
    "\n",
    "* Seleccionar/ver por número de fila `df[0:3]`\n",
    "\n",
    "* Selección por índice: \n",
    "\n",
    "- `df.loc[0:3] # índice de 0 a 3` \n",
    "- `df.loc[0:3,[‘column1’, ‘column2’]] # índice de 0 a 3 para las columnas específicas`\n",
    "\n",
    "* Selección por posición\n",
    "\n",
    "- `df.iloc[0:2] # usando el rango, primeras 2 filas` \n",
    "- `df.iloc[2,3,6] # posición específica`\n",
    "-  `df.iloc[0:2,0:2] # primeras 2 filas y primeras 2 columnas`\n",
    "\n",
    "* Selección sin que esté en el índice\n",
    "\n",
    "- `print(df.ix[1,1]) # valor de la primera fila y la primera columna` \n",
    "- `print(df.ix[:,2]) # todas las filas de la columna en la segunda posición`\n",
    "\n",
    "* Alternativa más rápida a `iloc` para obtener valores escalares: `print(df.iat[1,1])`\n",
    "\n",
    "* Transponer el dataframe: `df.T`\n",
    "\n",
    "* Filtrar DataFrame según la condición de valor para una columna: `df[df['column_name'] > 7.5]`\n",
    "\n",
    "* Filtrar DataFrame basado en una condición de valor en una columna: `df[df['column_name'].isin(['condition_value1', 'condition_value2'])]`\n",
    "\n",
    "* Filtro basado en múltiples condiciones en múltiples columnas usando el operador AND: `df[(df['column1']>7.5) & (df['column2']>3)]`\n",
    "\n",
    "* Filtro basado en múltiples condiciones en múltiples columnas usando el operador OR: `df[(df[‘column1’]>7.5) | (df['column2']>3)]`. "
   ]
  },
  {
   "cell_type": "code",
   "execution_count": null,
   "metadata": {
    "colab": {
     "base_uri": "https://localhost:8080/",
     "height": 112
    },
    "id": "pOtTELEsLAfx",
    "outputId": "01c10e1f-9aa1-4bd9-ab5d-83483df3ab18"
   },
   "outputs": [],
   "source": [
    "# completar"
   ]
  },
  {
   "cell_type": "code",
   "execution_count": null,
   "metadata": {
    "colab": {
     "base_uri": "https://localhost:8080/",
     "height": 206
    },
    "id": "ivOb0oSYSGby",
    "outputId": "faca40ae-7cda-47f4-d756-2eab423bbdc8"
   },
   "outputs": [],
   "source": [
    "# completar"
   ]
  },
  {
   "cell_type": "code",
   "execution_count": null,
   "metadata": {
    "colab": {
     "base_uri": "https://localhost:8080/"
    },
    "id": "EEpn-I5jSIca",
    "outputId": "16dbc588-c832-4a25-b6b1-78e3bdbffc58"
   },
   "outputs": [],
   "source": [
    "# completar"
   ]
  },
  {
   "cell_type": "code",
   "execution_count": null,
   "metadata": {
    "colab": {
     "base_uri": "https://localhost:8080/"
    },
    "id": "3CmE078qSKRN",
    "outputId": "a1437171-f192-4c85-fe6c-864c143adaa1"
   },
   "outputs": [],
   "source": [
    "# print (\"Nombres de las columnas:\" , df.columns)"
   ]
  },
  {
   "cell_type": "code",
   "execution_count": null,
   "metadata": {
    "colab": {
     "base_uri": "https://localhost:8080/"
    },
    "id": "b5jc_HiMTKJe",
    "outputId": "06157105-7b7b-466a-e67c-362978899a80"
   },
   "outputs": [],
   "source": [
    "# print (\"Indice del DataFrame : \", df.index)"
   ]
  },
  {
   "cell_type": "code",
   "execution_count": null,
   "metadata": {
    "colab": {
     "base_uri": "https://localhost:8080/"
    },
    "id": "8otEGZaxUBcN",
    "outputId": "e30c0004-0ddf-4283-bbe4-44a431930944"
   },
   "outputs": [],
   "source": [
    "# print(df.values)"
   ]
  },
  {
   "cell_type": "code",
   "execution_count": null,
   "metadata": {
    "colab": {
     "base_uri": "https://localhost:8080/"
    },
    "id": "0skr4dyrTfPs",
    "outputId": "1e37fc76-af2a-49a8-c414-ddc63d18d080"
   },
   "outputs": [],
   "source": [
    "# Valores para una especifica columna\n",
    "# Completar"
   ]
  },
  {
   "cell_type": "code",
   "execution_count": null,
   "metadata": {
    "colab": {
     "base_uri": "https://localhost:8080/"
    },
    "id": "drI7C2qEUJTc",
    "outputId": "5fe8cff0-2141-42d6-ac5a-f3413954278b"
   },
   "outputs": [],
   "source": [
    "# df['Species'].unique()"
   ]
  },
  {
   "cell_type": "code",
   "execution_count": null,
   "metadata": {
    "colab": {
     "base_uri": "https://localhost:8080/"
    },
    "id": "otBu5HVWUamB",
    "outputId": "e5d404c8-1eee-45df-a4cb-5a83e327f275"
   },
   "outputs": [],
   "source": [
    "# df['Sepal.Length'].unique()"
   ]
  },
  {
   "cell_type": "code",
   "execution_count": null,
   "metadata": {
    "colab": {
     "base_uri": "https://localhost:8080/",
     "height": 424
    },
    "id": "Yx8vBzDOUdym",
    "outputId": "70125eb1-5dae-44f3-b47a-25085a9006e7"
   },
   "outputs": [],
   "source": [
    "# df.sort_values(by = ['Species', 'Sepal.Length'], ascending=[True, True])"
   ]
  },
  {
   "cell_type": "code",
   "execution_count": null,
   "metadata": {
    "colab": {
     "base_uri": "https://localhost:8080/"
    },
    "id": "tcHUx3W8U7PT",
    "outputId": "fa30e0b0-29db-4b98-ebdf-5305316050f1"
   },
   "outputs": [],
   "source": [
    "#df['Species']"
   ]
  },
  {
   "cell_type": "code",
   "execution_count": null,
   "metadata": {
    "colab": {
     "base_uri": "https://localhost:8080/",
     "height": 143
    },
    "id": "o5lOhc1sVNhu",
    "outputId": "c8eceeb8-7fd2-4669-d444-d45cc048ae2c"
   },
   "outputs": [],
   "source": [
    "# completar"
   ]
  },
  {
   "cell_type": "markdown",
   "metadata": {
    "id": "2mf3Je9gYpeV"
   },
   "source": [
    "Selección diferente por opciones de etiqueta\n",
    "\n",
    "- `loc:` solo funciona en el índice\n",
    "- `iloc:` trabaja en posición\n",
    "- `iat:` Obtener valores escalares. es un `iloc` muy rapido. "
   ]
  },
  {
   "cell_type": "code",
   "execution_count": null,
   "metadata": {
    "colab": {
     "base_uri": "https://localhost:8080/"
    },
    "id": "JwEqIFd4VbD1",
    "outputId": "396eb8ac-9def-46ad-928b-3cfe650c0419"
   },
   "outputs": [],
   "source": [
    "# selección por indice\n",
    "# completar"
   ]
  },
  {
   "cell_type": "code",
   "execution_count": null,
   "metadata": {
    "colab": {
     "base_uri": "https://localhost:8080/"
    },
    "id": "TeK51S8mZC8_",
    "outputId": "33e5dc5e-2733-48f5-d708-9109f9d54b0b"
   },
   "outputs": [],
   "source": [
    "# selección por indice de nombres de etiquetas específicas\n",
    "# completar"
   ]
  },
  {
   "cell_type": "code",
   "execution_count": null,
   "metadata": {
    "colab": {
     "base_uri": "https://localhost:8080/"
    },
    "id": "p0mFC9yxZxLg",
    "outputId": "dd968a8f-b8b2-48f8-dea4-a25e39c0c04d"
   },
   "outputs": [],
   "source": [
    "# Selección por posición\n",
    "# completar"
   ]
  },
  {
   "cell_type": "code",
   "execution_count": null,
   "metadata": {
    "colab": {
     "base_uri": "https://localhost:8080/",
     "height": 112
    },
    "id": "MT1DK0AcaAbH",
    "outputId": "53e4719e-c5c6-47d8-8807-1d7f82376184"
   },
   "outputs": [],
   "source": [
    "# Seleccion por posicion entre filas dadas como rango\n",
    "# completar"
   ]
  },
  {
   "cell_type": "markdown",
   "metadata": {
    "colab": {
     "base_uri": "https://localhost:8080/",
     "height": 143
    },
    "id": "kaCwcf4SaTIL",
    "outputId": "1fb3ac6e-eacc-4773-c397-dbab246e9bd9"
   },
   "source": [
    "**Ejercicio**\n",
    "\n",
    "¿Qué produce `df.iloc[0:3, 0:3]` ?"
   ]
  },
  {
   "cell_type": "code",
   "execution_count": null,
   "metadata": {},
   "outputs": [],
   "source": [
    "## Tu respuesta"
   ]
  },
  {
   "cell_type": "code",
   "execution_count": null,
   "metadata": {
    "colab": {
     "base_uri": "https://localhost:8080/",
     "height": 143
    },
    "id": "jZPYlJ2CaZgL",
    "outputId": "af4750ec-0f02-4356-8eb6-d9c1b4f6c2a1"
   },
   "outputs": [],
   "source": [
    "# seleccion por posicion entre numeros de fila especificos dados\n",
    "# Completar"
   ]
  },
  {
   "cell_type": "markdown",
   "metadata": {
    "id": "_orxFJhhbMj9"
   },
   "source": [
    "Selección por índice de fila y columna (el índice comienza con 0). \n",
    "\n",
    "El siguiente caso obtendrá el valor `[índice de la primera fila, índice de la primera columna]`."
   ]
  },
  {
   "cell_type": "code",
   "execution_count": null,
   "metadata": {
    "colab": {
     "base_uri": "https://localhost:8080/"
    },
    "id": "BT4I0aspbA3y",
    "outputId": "f9569b21-7ee1-4f45-fe97-1f204cbfa10f"
   },
   "outputs": [],
   "source": [
    "# obtener valores escalares. es un iloc muy rapido \n",
    "# print(df.iat[1,1]) "
   ]
  },
  {
   "cell_type": "code",
   "execution_count": null,
   "metadata": {
    "colab": {
     "base_uri": "https://localhost:8080/"
    },
    "id": "dA-ID00IbrvM",
    "outputId": "fe33a126-085a-4617-b143-4cbdf592b698"
   },
   "outputs": [],
   "source": [
    "# Obtencion de datos sin que este en el indice \n",
    "#print(df.iloc[1,1])"
   ]
  },
  {
   "cell_type": "code",
   "execution_count": null,
   "metadata": {
    "colab": {
     "base_uri": "https://localhost:8080/"
    },
    "id": "xCBzTNf7cGQ8",
    "outputId": "a316b12d-2a24-4c85-ca3f-56f175004b24"
   },
   "outputs": [],
   "source": [
    "# selecciona columnas por posicion\n",
    "#print (df.iloc[:, 2]) "
   ]
  },
  {
   "cell_type": "code",
   "execution_count": null,
   "metadata": {
    "colab": {
     "base_uri": "https://localhost:8080/",
     "height": 300
    },
    "id": "D3D7ufT-cO9h",
    "outputId": "3cd25b1c-2869-4257-a215-5a207d548fb8"
   },
   "outputs": [],
   "source": [
    "# Transpuesta\n",
    "# df.T"
   ]
  },
  {
   "cell_type": "markdown",
   "metadata": {
    "id": "0gQUrpJYccGh"
   },
   "source": [
    "#### Indexado Booleano"
   ]
  },
  {
   "cell_type": "code",
   "execution_count": null,
   "metadata": {
    "colab": {
     "base_uri": "https://localhost:8080/",
     "height": 238
    },
    "id": "TSG2V1r1cTkl",
    "outputId": "8c82ba99-ad2c-423e-8297-2825f1a44069"
   },
   "outputs": [],
   "source": [
    "# Completar"
   ]
  },
  {
   "cell_type": "code",
   "execution_count": null,
   "metadata": {
    "colab": {
     "base_uri": "https://localhost:8080/",
     "height": 424
    },
    "id": "Wof7vEMMcm7D",
    "outputId": "60d284ba-ff25-4077-fe2c-2bc5dc3cdb44"
   },
   "outputs": [],
   "source": [
    "# Completar"
   ]
  },
  {
   "cell_type": "code",
   "execution_count": null,
   "metadata": {
    "colab": {
     "base_uri": "https://localhost:8080/",
     "height": 112
    },
    "id": "Fu-djdEic9et",
    "outputId": "b6f96fb0-a684-42e4-e514-bd6a5c564031"
   },
   "outputs": [],
   "source": [
    "# Completar"
   ]
  },
  {
   "cell_type": "code",
   "execution_count": null,
   "metadata": {
    "colab": {
     "base_uri": "https://localhost:8080/",
     "height": 424
    },
    "id": "OBBtU0OVdj5q",
    "outputId": "56fd2967-fb98-4744-8aa9-8e866665d051"
   },
   "outputs": [],
   "source": [
    "# Completar"
   ]
  },
  {
   "cell_type": "markdown",
   "metadata": {
    "id": "tAu0CN5geolP"
   },
   "source": [
    "### Operaciones básicas con Pandas\n",
    "\n",
    "* Convertir cadenas a series de fechas: `pd.to_datetime(pd.Series(['2017-04-01','2017-04-02','2017-04-03']))`.\n",
    "\n",
    "* Cambiar el nombre de una columna específica: `df.rename(columns={‘old_columnname’:‘new_columnname'}, inplace=True)`\n",
    "\n",
    "* Cambiar el nombre de todas las columnas del DataFrame: `df.columns = ['col1_new_name','col2_new_name'...]`\n",
    "\n",
    "* Marcar duplicados: `df.duplicated()`\n",
    "\n",
    "* Quitar duplicados:`df = df.drop_duplicates()`\n",
    "\n",
    "* Quitar duplicados en una columna específica: `df.drop_duplicates(['column_name'])`\n",
    "\n",
    "* Quitar los duplicados en una columna específica, pero se conserva la primera o la última observación en el conjunto de duplicados: `df.drop_duplicates(['column_name'], keep = 'first') # cambiar al ultimo para conservar la ultima observación del duplicado`.\n",
    "\n",
    "* Crear una nueva columna a partir de una columna existente: `df['new_column_name'] = df['new_column_name'] + 5`\n",
    "\n",
    "* Crear una nueva columna a partir de los elementos de dos columnas: `df['new_column_name'] = df['existing_column1'] + '_' + df['existing_column2']`\n",
    "\n",
    "* Agregar una lista o una nueva columna a DataFrame: `df['new_column_name'] = pd.Series(mylist)`\n",
    "\n",
    "* Descartar las filas y columnas faltantes que tienen valores faltantes: `df.dropna()`\n",
    "\n",
    "* Reemplaza todos los valores faltantes con 0 (o puede usar cualquier int o str): `df.fillna(value=0)`\n",
    "\n",
    "* Reemplaza los valores faltantes con la última observación válida (útil en datos de series de tiempo). Por ejemplo, la temperatura no cambia drásticamente en comparación con una observación anterior. Una forma es llenar de NA forward-backward más alla de la media.\n",
    "\n",
    "    1) 'pad' / 'ffill' - forward fill\n",
    "\n",
    "    2) 'bfill'/'backfill' - backward fill\n",
    "\n",
    "    Límite: si se especifica el método, este es el número máximo de valores de NaN consecutivos para completar forward/backward fill: `df.fillna (method = 'ffill', inplace= True, limit = 1)`\n",
    "\n",
    "* Verifica la condición del valor faltante y devuelva el valor Booleano de `True` o `False` para cada celda: `pd.isnull(df)`\n",
    "\n",
    "* Reemplaza todos los valores faltantes para una columna dada con la media: `mean=df['column_name].mean(); df['column_name'].fillna(mean)`\n",
    "\n",
    "* Devuelve la media para cada columna: `df.mean()`\n",
    "\n",
    "* Retorna el máximo para cada columna: `df.max()`\n",
    "\n",
    "* Retorno el mínimo para cada columna: `df.min()`\n",
    "\n",
    "* Devuelve la suma para cada columna: `df.sum()`\n",
    "\n",
    "* Conteo para cada columna: `df.count()`\n",
    "\n",
    "* Devuelve la suma acumulada para cada columna: `df.cumsum()`\n",
    "\n",
    "* Aplica una función a lo largo de cualquier eje del DataFrame: `df.apply(np.cumsum)`\n",
    "\n",
    "* Itera sobre cada elemento de una serie y realizar la acción deseada: `df['column_name'].map(lambda x: 1+x) # esto itera sobre la columna y agrega el valor 1 a cada elemento`\n",
    "\n",
    "* Aplica una función a cada elemento del dataframe:`func = lambda x: x + 1 # función para agregar una constante 1 a cada elemento del dataframe df.applymap(func)`. "
   ]
  },
  {
   "cell_type": "code",
   "execution_count": null,
   "metadata": {
    "colab": {
     "base_uri": "https://localhost:8080/"
    },
    "id": "LT8uTUz6dmIb",
    "outputId": "f3f6e111-f3cc-40c0-9240-4a2483f3f5ca"
   },
   "outputs": [],
   "source": [
    "cadena_fechas = ('2017-04-01','2017-04-02','2017-04-03','2017-04-04')\n",
    "pd.to_datetime(pd.Series(cadena_fechas))"
   ]
  },
  {
   "cell_type": "code",
   "execution_count": null,
   "metadata": {
    "id": "A6Gm80pLpQCe"
   },
   "outputs": [],
   "source": [
    "#df.rename(columns = {'Sepal.Length': 'Sepal_Length'}, inplace=True)"
   ]
  },
  {
   "cell_type": "code",
   "execution_count": null,
   "metadata": {
    "id": "2LJNuhlYpoWJ"
   },
   "outputs": [],
   "source": [
    "#df.columns = ['Sepal_Length', 'Sepal_Width', 'Petal_Length', 'Petal_Width', 'Species']\n"
   ]
  },
  {
   "cell_type": "code",
   "execution_count": null,
   "metadata": {
    "colab": {
     "base_uri": "https://localhost:8080/"
    },
    "id": "82eOr0OmqCvT",
    "outputId": "559675e3-1d17-4f13-9645-7b116060f670"
   },
   "outputs": [],
   "source": [
    "# Removemos los duplicados\n",
    "\n",
    "data_1 = {'primer_nombre': ['Amy', 'Amy', 'Jason', 'Nick', 'Stephen','Amy'],\n",
    "        'ultimo_nombre': ['Jackson', 'J', 'Miller', 'Milner', 'L','J'],\n",
    "        'edad': [42, 42, 36, 24, 24, 42]}\n",
    "df = pd.DataFrame(data_1, columns = ['primer_nombre', 'ultimo_nombre', 'edad'])\n",
    "print(df)"
   ]
  },
  {
   "cell_type": "code",
   "execution_count": null,
   "metadata": {
    "colab": {
     "base_uri": "https://localhost:8080/"
    },
    "id": "41fI6CqsqeGT",
    "outputId": "7a25746c-ea25-4b87-9508-4be5a2bff3ec"
   },
   "outputs": [],
   "source": [
    "#print(df.duplicated())"
   ]
  },
  {
   "cell_type": "code",
   "execution_count": null,
   "metadata": {
    "colab": {
     "base_uri": "https://localhost:8080/"
    },
    "id": "AeQFP7fYrjc4",
    "outputId": "58323016-8d8f-45f3-ddae-771118bf62d4"
   },
   "outputs": [],
   "source": [
    "# print(df.drop_duplicates())"
   ]
  },
  {
   "cell_type": "code",
   "execution_count": null,
   "metadata": {
    "colab": {
     "base_uri": "https://localhost:8080/",
     "height": 175
    },
    "id": "sPee656ar2sr",
    "outputId": "5397d537-4efd-4614-8848-90552db3cf99"
   },
   "outputs": [],
   "source": [
    "#df.drop_duplicates(['primer_nombre'], keep ='first')"
   ]
  },
  {
   "cell_type": "markdown",
   "metadata": {},
   "source": [
    "**Ejercicio**\n",
    "\n",
    "* Agrega las columnas siguientes: `edad_mas_5`, `nombre_completo` y `genero`\n",
    " - `edad_mas_5`viene de sumar 5 a la etiqueta `edad`\n",
    " - `nombre_completo` viene de sumar las etiquetas `primer_nombre`, `_` y `ultimo_nombre`\n",
    " - `genero` es una serie de elementos `'F','F','M','M','M','F'.`"
   ]
  },
  {
   "cell_type": "code",
   "execution_count": null,
   "metadata": {
    "colab": {
     "base_uri": "https://localhost:8080/",
     "height": 238
    },
    "id": "Hju_v1OUs8XV",
    "outputId": "5eaff32c-849b-46a9-c9eb-2749e8aa8f27"
   },
   "outputs": [],
   "source": [
    "# Tu respuesta"
   ]
  },
  {
   "cell_type": "markdown",
   "metadata": {
    "id": "LV8Khzaqt5oY"
   },
   "source": [
    "#### Datos perdidos\n",
    "\n",
    "pandas usa principalmente el valor `np.nan` para representar los datos que faltan. Por defecto no se incluye en los cálculos. "
   ]
  },
  {
   "cell_type": "code",
   "execution_count": null,
   "metadata": {
    "colab": {
     "base_uri": "https://localhost:8080/"
    },
    "id": "yt3FCXUatdUc",
    "outputId": "e9d94a34-acdd-48c2-9678-3a65fb2fbc66"
   },
   "outputs": [],
   "source": [
    "#df.iloc[4,2] = np.nan\n",
    "#print(df)"
   ]
  },
  {
   "cell_type": "code",
   "execution_count": null,
   "metadata": {
    "colab": {
     "base_uri": "https://localhost:8080/"
    },
    "id": "YtXj19W1uKMf",
    "outputId": "8bfbab47-9987-413b-efea-180172675356"
   },
   "outputs": [],
   "source": [
    "#print(df.dropna())"
   ]
  },
  {
   "cell_type": "code",
   "execution_count": null,
   "metadata": {
    "colab": {
     "base_uri": "https://localhost:8080/"
    },
    "id": "gGa-aAkAyNgf",
    "outputId": "cd606cd8-9412-4dc2-9023-fa4520e65964"
   },
   "outputs": [],
   "source": [
    "#df.iloc[4,2] = np.nan\n",
    "#print(df)"
   ]
  },
  {
   "cell_type": "code",
   "execution_count": null,
   "metadata": {
    "colab": {
     "base_uri": "https://localhost:8080/",
     "height": 238
    },
    "id": "JCU5_DJQyZQV",
    "outputId": "3b78bde9-ad02-4977-a52a-6e3f368aa70b"
   },
   "outputs": [],
   "source": [
    "#df.fillna(value =0)"
   ]
  },
  {
   "cell_type": "code",
   "execution_count": null,
   "metadata": {
    "colab": {
     "base_uri": "https://localhost:8080/"
    },
    "id": "zYtIIvVZyiMA",
    "outputId": "1f3f5b50-932d-467e-bd6d-33b09862b664"
   },
   "outputs": [],
   "source": [
    "#df.iloc[4,2] = np.nan\n",
    "#print(df)"
   ]
  },
  {
   "cell_type": "code",
   "execution_count": null,
   "metadata": {
    "colab": {
     "base_uri": "https://localhost:8080/",
     "height": 238
    },
    "id": "APXmU7Gxyno_",
    "outputId": "60398dcf-d0af-4f04-a7f4-6f1fa8a9a679"
   },
   "outputs": [],
   "source": [
    "#pd.isnull(df)"
   ]
  },
  {
   "cell_type": "markdown",
   "metadata": {},
   "source": [
    "#### Operaciones"
   ]
  },
  {
   "cell_type": "code",
   "execution_count": null,
   "metadata": {
    "colab": {
     "base_uri": "https://localhost:8080/"
    },
    "id": "7qPO8OHUyv-x",
    "outputId": "5c6458de-559a-426e-a3e5-f713b36125d1"
   },
   "outputs": [],
   "source": [
    "#media = df['edad'].mean()\n",
    "#media\n",
    "# usamos la media para reeemplazar el NaN\n",
    "# completar "
   ]
  },
  {
   "cell_type": "code",
   "execution_count": null,
   "metadata": {
    "id": "1MDuqS7UzGtZ"
   },
   "outputs": [],
   "source": [
    "# df.fillna(method='ffill', inplace=True, limit=1)"
   ]
  },
  {
   "cell_type": "code",
   "execution_count": null,
   "metadata": {
    "colab": {
     "base_uri": "https://localhost:8080/"
    },
    "id": "Hm-mCI_WztC0",
    "outputId": "404dc093-c0a8-41e4-d6dd-3b8b923c8fa0"
   },
   "outputs": [],
   "source": [
    "#import warnings\n",
    "#warnings.filterwarnings('ignore')\n",
    "#df.mean()"
   ]
  },
  {
   "cell_type": "code",
   "execution_count": null,
   "metadata": {
    "colab": {
     "base_uri": "https://localhost:8080/"
    },
    "id": "JzIZIUh50FgX",
    "outputId": "719e414a-b531-44b6-b2f6-02109c1ef13e"
   },
   "outputs": [],
   "source": [
    "#df.min()"
   ]
  },
  {
   "cell_type": "code",
   "execution_count": null,
   "metadata": {
    "colab": {
     "base_uri": "https://localhost:8080/"
    },
    "id": "C-msyIYt0bri",
    "outputId": "a1d29498-1eb0-4d3d-8f77-fc44e193c2ad"
   },
   "outputs": [],
   "source": [
    "#df.max()"
   ]
  },
  {
   "cell_type": "code",
   "execution_count": null,
   "metadata": {
    "colab": {
     "base_uri": "https://localhost:8080/"
    },
    "id": "NS_ZaD6J0e9x",
    "outputId": "5216aeac-3b39-4988-f7ee-82e68e7feda1"
   },
   "outputs": [],
   "source": [
    "#df.sum()"
   ]
  },
  {
   "cell_type": "code",
   "execution_count": null,
   "metadata": {
    "colab": {
     "base_uri": "https://localhost:8080/"
    },
    "id": "Jcn-IglW0hXK",
    "outputId": "bd68beff-feca-4b76-8be2-8ad53dbc21f1"
   },
   "outputs": [],
   "source": [
    "#df.count()"
   ]
  },
  {
   "cell_type": "code",
   "execution_count": null,
   "metadata": {
    "colab": {
     "base_uri": "https://localhost:8080/",
     "height": 302
    },
    "id": "TAq1dqYH0kFe",
    "outputId": "672434cf-b3b1-41ab-950f-025615513324"
   },
   "outputs": [],
   "source": [
    "#df.cumsum()"
   ]
  },
  {
   "cell_type": "markdown",
   "metadata": {
    "id": "7qJamnllXGKQ"
   },
   "source": [
    "#### Aplicación de función a elemento, columna o dataframe\n"
   ]
  },
  {
   "cell_type": "code",
   "execution_count": null,
   "metadata": {
    "colab": {
     "base_uri": "https://localhost:8080/",
     "height": 302
    },
    "id": "M_cB15f70m6-",
    "outputId": "5f38c60a-23af-4175-da98-89a7c0b00120"
   },
   "outputs": [],
   "source": [
    "# completar"
   ]
  },
  {
   "cell_type": "code",
   "execution_count": null,
   "metadata": {
    "colab": {
     "base_uri": "https://localhost:8080/"
    },
    "id": "6t1wvCStXU1O",
    "outputId": "4f488083-cb68-4c61-e166-23c3f7cc8e38"
   },
   "outputs": [],
   "source": [
    "# Map: itera sobre cada elemento de una serie\n",
    "# Completar agrega una constante 1 a cada elemento de la column1\n"
   ]
  },
  {
   "cell_type": "code",
   "execution_count": null,
   "metadata": {
    "colab": {
     "base_uri": "https://localhost:8080/"
    },
    "id": "mYEdjDSUXmrb",
    "outputId": "ce3dc101-fa3f-4790-cafc-8054daece5ef"
   },
   "outputs": [],
   "source": [
    "#func=lambda x: x+1\n",
    "#df_filtrado = df.iloc[:, 2:4]\n",
    "#print(df_filtrado)"
   ]
  },
  {
   "cell_type": "code",
   "execution_count": null,
   "metadata": {
    "colab": {
     "base_uri": "https://localhost:8080/"
    },
    "id": "YBiAYP8jYnzO",
    "outputId": "000a0cb8-1fb5-49af-d177-994f1be08993"
   },
   "outputs": [],
   "source": [
    "#print(df_filtrado.applymap(func))"
   ]
  },
  {
   "cell_type": "markdown",
   "metadata": {},
   "source": [
    "**Ejemplo**\n",
    "\n",
    "La parte del poder de pandas se da por los métodos integrados en los objetos Series y DataFrame. "
   ]
  },
  {
   "cell_type": "code",
   "execution_count": null,
   "metadata": {},
   "outputs": [],
   "source": [
    "from io import StringIO\n",
    "data = StringIO('''UPC,Units,Sales,Date\n",
    "1234,5,20.2,1-1-2014\n",
    "1234,2,8.,1-2-2014\n",
    "1234,3,13.,1-3-2014\n",
    "789,1,2.,1-1-2014\n",
    "789,2,3.8,1-2-2014\n",
    "789,,,1-3-2014\n",
    "789,1,1.8,1-5-2014''')"
   ]
  },
  {
   "cell_type": "code",
   "execution_count": null,
   "metadata": {},
   "outputs": [],
   "source": [
    "sales = pd.read_csv(data)\n",
    "sales"
   ]
  },
  {
   "cell_type": "code",
   "execution_count": null,
   "metadata": {},
   "outputs": [],
   "source": [
    "sales.shape"
   ]
  },
  {
   "cell_type": "code",
   "execution_count": null,
   "metadata": {},
   "outputs": [],
   "source": [
    "sales.info()"
   ]
  },
  {
   "cell_type": "markdown",
   "metadata": {},
   "source": [
    "A diferencia del objeto `Series` que prueba la pertenencia con el índice, el `DataFrame` prueba la pertenencia con las columnas. El comportamiento de iteración `(__iter__)` y el comportamiento de pertenencia `(__contains__)` es el mismo para el `DataFrame`.  "
   ]
  },
  {
   "cell_type": "markdown",
   "metadata": {},
   "source": [
    "#### Operaciones de índice\n"
   ]
  },
  {
   "cell_type": "code",
   "execution_count": null,
   "metadata": {},
   "outputs": [],
   "source": [
    "# sales.reindex([0, 4])"
   ]
  },
  {
   "cell_type": "code",
   "execution_count": null,
   "metadata": {},
   "outputs": [],
   "source": [
    "#sales.reindex(columns=['Date', 'Sales']) "
   ]
  },
  {
   "cell_type": "markdown",
   "metadata": {},
   "source": [
    "La selección de columnas e índices se puede combinar para refinar aún más la selección. Además, se pueden incluir nuevas entradas para valores de índices y nombres de columna. Por defecto, usarán el parámetro opcional `fill_value` (que es NaN a menos que se especifique): "
   ]
  },
  {
   "cell_type": "code",
   "execution_count": null,
   "metadata": {},
   "outputs": [],
   "source": [
    "#sales.reindex(index=[2, 6, 8], columns=['Sales', 'MIT', 'missing'])"
   ]
  },
  {
   "cell_type": "code",
   "execution_count": null,
   "metadata": {},
   "outputs": [],
   "source": [
    "#by_date = sales.set_index('Date')\n",
    "#by_date"
   ]
  },
  {
   "cell_type": "markdown",
   "metadata": {},
   "source": [
    "Para agregar un índice entero creciente a un data frame, usa `.reset_index`: "
   ]
  },
  {
   "cell_type": "code",
   "execution_count": null,
   "metadata": {},
   "outputs": [],
   "source": [
    "# by_date.reset_index()"
   ]
  },
  {
   "cell_type": "markdown",
   "metadata": {},
   "source": [
    "#### Obtener y establecer valores\n"
   ]
  },
  {
   "cell_type": "code",
   "execution_count": null,
   "metadata": {},
   "outputs": [],
   "source": [
    "#sales.iat[4, 2]"
   ]
  },
  {
   "cell_type": "markdown",
   "metadata": {},
   "source": [
    "\n",
    "A continuación, insertamos una columna `Category` después de ` UPC`  (en la posición 1): "
   ]
  },
  {
   "cell_type": "code",
   "execution_count": null,
   "metadata": {},
   "outputs": [],
   "source": [
    "#sales.insert(1, 'Category', 'Food')\n",
    "# sales"
   ]
  },
  {
   "cell_type": "markdown",
   "metadata": {},
   "source": [
    "El método `.replace` es una forma poderosa de actualizar muchos valores de un data frame en las columnas. Para reemplazar todos los 789 con 790, realiza lo siguiente:"
   ]
  },
  {
   "cell_type": "code",
   "execution_count": null,
   "metadata": {},
   "outputs": [],
   "source": [
    "# sales.replace(789, 790)"
   ]
  },
  {
   "cell_type": "code",
   "execution_count": null,
   "metadata": {},
   "outputs": [],
   "source": [
    "#sales.replace({'UPC': {789:790},\n",
    "#                'Sales': {789: 1.4}})"
   ]
  },
  {
   "cell_type": "markdown",
   "metadata": {},
   "source": [
    "El método `replace` también acepta expresiones regulares (pueden ser incluidas en diccionarios anidados) si  el paramétro`regex` se coloca en `True`."
   ]
  },
  {
   "cell_type": "code",
   "execution_count": null,
   "metadata": {},
   "outputs": [],
   "source": [
    "#sales.replace('(F.*d)', r'\\1_stuff', regex=True)"
   ]
  },
  {
   "cell_type": "markdown",
   "metadata": {},
   "source": [
    "#### Eliminación de  columnas\n",
    "\n",
    "Hay al menos cuatro formas de eliminar una columna:\n",
    "\n",
    "* El método `.pop`\n",
    "\n",
    "* El método `.drop` con `axis = 1`\n",
    "\n",
    "* El método `.reindex`\n",
    "\n",
    "* Indexación con una lista de nuevas columnas\n",
    "\n",
    "El método `.pop` toma el nombre de una columna y lo elimina del data frame. Opera in-place. En lugar de devolver un data frame, devuelve la columna eliminada.  "
   ]
  },
  {
   "cell_type": "code",
   "execution_count": null,
   "metadata": {},
   "outputs": [],
   "source": [
    "#sales['subcat'] = 'Dairy'\n",
    "#sales"
   ]
  },
  {
   "cell_type": "code",
   "execution_count": null,
   "metadata": {},
   "outputs": [],
   "source": [
    "# sales.pop('subcat')"
   ]
  },
  {
   "cell_type": "code",
   "execution_count": null,
   "metadata": {},
   "outputs": [],
   "source": [
    "#sales"
   ]
  },
  {
   "cell_type": "markdown",
   "metadata": {},
   "source": [
    "Para quitar una columna con el método `.drop`, simplemente páselo (o una lista de nombres de columna) junto con la configuración del parámetro `axis` en 1: "
   ]
  },
  {
   "cell_type": "code",
   "execution_count": null,
   "metadata": {},
   "outputs": [],
   "source": [
    "# completar"
   ]
  },
  {
   "cell_type": "markdown",
   "metadata": {},
   "source": [
    "#### Los dos métodos finales para eliminar columnas"
   ]
  },
  {
   "cell_type": "code",
   "execution_count": null,
   "metadata": {},
   "outputs": [],
   "source": [
    "#cols = ['Sales', 'Date']"
   ]
  },
  {
   "cell_type": "code",
   "execution_count": null,
   "metadata": {},
   "outputs": [],
   "source": [
    "# sales.reindex(columns=cols)"
   ]
  },
  {
   "cell_type": "code",
   "execution_count": null,
   "metadata": {},
   "outputs": [],
   "source": [
    "#sales[cols]"
   ]
  },
  {
   "cell_type": "markdown",
   "metadata": {},
   "source": [
    "#### Recortes\n"
   ]
  },
  {
   "cell_type": "code",
   "execution_count": null,
   "metadata": {},
   "outputs": [],
   "source": [
    "#sales.head()"
   ]
  },
  {
   "cell_type": "code",
   "execution_count": null,
   "metadata": {},
   "outputs": [],
   "source": [
    "#sales.tail(2)"
   ]
  },
  {
   "cell_type": "markdown",
   "metadata": {},
   "source": [
    "Usemos un índice basado en cadenas para que quede más claro qué hacen las opciones de recorte:"
   ]
  },
  {
   "cell_type": "code",
   "execution_count": null,
   "metadata": {},
   "outputs": [],
   "source": [
    "# completar"
   ]
  },
  {
   "cell_type": "code",
   "execution_count": null,
   "metadata": {},
   "outputs": [],
   "source": [
    "# del sales['new_index']"
   ]
  },
  {
   "cell_type": "code",
   "execution_count": null,
   "metadata": {},
   "outputs": [],
   "source": [
    "# df"
   ]
  },
  {
   "cell_type": "markdown",
   "metadata": {},
   "source": [
    "Para dividir por posición, usa el atributo `.iloc`. Aquí tomamos filas en las posiciones dos hasta cuatro, pero sin incluirlas: "
   ]
  },
  {
   "cell_type": "code",
   "execution_count": null,
   "metadata": {},
   "outputs": [],
   "source": [
    "#df.iloc[2:4]"
   ]
  },
  {
   "cell_type": "markdown",
   "metadata": {},
   "source": [
    "También podemos proporcionar posiciones de columna que también queremos mantener. Las posiciones de las columnas deben seguir una coma en la operación de índice. Aquí mantenemos las filas desde dos hasta pero sin incluir la fila cuatro. También tomamos columnas desde cero hasta pero sin incluir uno (solo la columna en la posición de índice cero).\n",
    "\n",
    "Esto se expresa en la siguiente figura:\n",
    "\n",
    "\n",
    "<img src=\"recorte-pandas.png\" alt=\"Drawing\" style=\"width: 500px;\"/>\n",
    "\n",
    "A continuación se muestra un resumen de las construcciones de  de data frame por posición y etiqueta.\n",
    "\n",
    "\n",
    "```\n",
    ".iloc [i: j]            Posición de filas i hasta pero sin incluir j (semiabierto)\n",
    ".iloc [:, i: j]         Posición de las columnas i hasta pero sin incluir j (semiabierto)\n",
    ".iloc [[i, k, m]]       Filas en i, k y m (no es un intervalo)\n",
    ".loc [a: b]             Filas desde la etiqueta de índice a hasta b (cerrado)\n",
    ".loc [:, c: d]          Columnas de la etiqueta de columna c a d (cerrado)\n",
    ".loc [: [b, d, f]]      Columnas en las etiquetas b, d y f (no es un intervalo) \n",
    "\n",
    "```\n",
    "\n",
    "<img src=\"recorte-ejemplo.png\" alt=\"Drawing\" style=\"width: 600px;\"/>"
   ]
  },
  {
   "cell_type": "code",
   "execution_count": null,
   "metadata": {},
   "outputs": [],
   "source": [
    "#df = df.drop(['Category'], axis=1)\n",
    "#df"
   ]
  },
  {
   "cell_type": "code",
   "execution_count": null,
   "metadata": {},
   "outputs": [],
   "source": [
    "# df.iloc[2:4, 0:1]"
   ]
  },
  {
   "cell_type": "markdown",
   "metadata": {},
   "source": [
    "También hay soporte para dividir datos por etiquetas. Usando el atributo `.loc`, podemos tomar valores de índice desde la `a` a la `d`:"
   ]
  },
  {
   "cell_type": "code",
   "execution_count": null,
   "metadata": {},
   "outputs": [],
   "source": [
    "# completar"
   ]
  },
  {
   "cell_type": "markdown",
   "metadata": {},
   "source": [
    "Y al igual que `.iloc`, `.loc` tiene la capacidad de especificar columnas por etiqueta. En este ejemplo, solo tomamos la columna `Units` y, por lo tanto, devuelve una serie:"
   ]
  },
  {
   "cell_type": "code",
   "execution_count": null,
   "metadata": {},
   "outputs": [],
   "source": [
    "# completar"
   ]
  },
  {
   "cell_type": "markdown",
   "metadata": {},
   "source": [
    "Sacamos las columnas `UPC` y `Sales`, pero con solo los últimos 4 valores:"
   ]
  },
  {
   "cell_type": "code",
   "execution_count": null,
   "metadata": {},
   "outputs": [],
   "source": [
    "# Completar"
   ]
  },
  {
   "cell_type": "markdown",
   "metadata": {
    "id": "B7n_sZSRZAOZ"
   },
   "source": [
    "### Merge/Join\n"
   ]
  },
  {
   "cell_type": "code",
   "execution_count": null,
   "metadata": {
    "colab": {
     "base_uri": "https://localhost:8080/"
    },
    "id": "E-2aVs4aY0Vr",
    "outputId": "94fbc09a-b0fc-48dd-962e-1f638690e811"
   },
   "outputs": [],
   "source": [
    "data = {\n",
    "        'emp_id': ['1', '2', '3', '4', '5'],\n",
    "        'primer_nombre': ['Jason', 'Andy', 'Allen', 'John', 'Amy'], \n",
    "        'ultimo_nombre': ['Larkin', 'Jacob', 'A', 'AA', 'Jackson']}\n",
    "df_1 = pd.DataFrame(data, columns = ['emp_id', 'primer_nombre', 'ultimo_nombre'])\n",
    "print (df_1)"
   ]
  },
  {
   "cell_type": "code",
   "execution_count": null,
   "metadata": {
    "colab": {
     "base_uri": "https://localhost:8080/"
    },
    "id": "jA72OR5JZZ6f",
    "outputId": "9fd59291-1f00-4bf7-bffb-afd5a9e3d263"
   },
   "outputs": [],
   "source": [
    "data = {\n",
    "        'emp_id': ['4', '5', '6', '7'],\n",
    "        'primer_nombre': ['James', 'Shize', 'Kim', 'Jose'], \n",
    "        'ultimo_nombre': ['Alexander', 'Suma', 'Mike', 'G']}\n",
    "df_2 = pd.DataFrame(data, columns = ['emp_id', 'primer_nombre', 'ultimo_nombre'])\n",
    "print (df_2)"
   ]
  },
  {
   "cell_type": "code",
   "execution_count": null,
   "metadata": {
    "colab": {
     "base_uri": "https://localhost:8080/"
    },
    "id": "FR8uGPpNZlgO",
    "outputId": "653f5be4-4c59-4a44-d066-eb65b671c2af"
   },
   "outputs": [],
   "source": [
    "# usando concat\n",
    "df = pd.concat([df_1, df_2])\n",
    "print(df)"
   ]
  },
  {
   "cell_type": "code",
   "execution_count": null,
   "metadata": {
    "colab": {
     "base_uri": "https://localhost:8080/",
     "height": 206
    },
    "id": "IfJmK4rLZ5-X",
    "outputId": "0d193512-817e-4ba0-dcdd-d7aa9ab44dcb"
   },
   "outputs": [],
   "source": [
    "# Juntando dos dataframes a lo largo de las columnas\n",
    "pd.concat([df_1,df_2], axis=1)"
   ]
  },
  {
   "cell_type": "markdown",
   "metadata": {
    "id": "Dob92Mh8cy-Q"
   },
   "source": [
    "Combinamos dos dataframes basados en el valor `emp_id` en este caso, solo se unirán los `emp_id` presentes en ambas tablas."
   ]
  },
  {
   "cell_type": "code",
   "execution_count": null,
   "metadata": {
    "colab": {
     "base_uri": "https://localhost:8080/"
    },
    "id": "Qm6FdoJBbf8z",
    "outputId": "5fcca937-5d91-47c2-9532-a05820989945"
   },
   "outputs": [],
   "source": [
    "print(pd.merge(df_1,df_2, on='emp_id'))"
   ]
  },
  {
   "cell_type": "markdown",
   "metadata": {
    "id": "0_0FPmAtm7l_"
   },
   "source": [
    "### Grouping\n",
    "\n",
    "\n",
    "Pandas nos brinda la capacidad de agrupar data frames por valores de columna y luego fusionarlos nuevamente en un resultado con el método `.groupby`.\n",
    "Pandas `group by` nos permitirá lograr lo siguiente:\n",
    "\n",
    "- Aplicar una función de agregación a cada grupo de forma independiente\n",
    "- Según algunos criterios, divide los datos en grupos.\n",
    "- Combinar los resultados del `group by` en una estructura de datos.\n",
    "\n",
    "\n",
    "<img src=\"Groupby.png\" alt=\"Drawing\" style=\"width: 700px;\"/>\n",
    "\n",
    "Como ejemplo, en el data frame `scores`, calcularemos las puntuaciones medias de cada maestro. Primero llamamos a `.groupby` y entonces invocamos a `.median` en el resultado: "
   ]
  },
  {
   "cell_type": "code",
   "execution_count": null,
   "metadata": {},
   "outputs": [],
   "source": [
    "#scores = pd.DataFrame({\n",
    "#    'name':['Adam', 'Bob', 'Dave', 'Fred'],\n",
    "#    'age': [15, 16, 16, 15],\n",
    "#    'test1': [95, 81, 89, None],\n",
    "#    'test2': [80, 82, 84, 88],\n",
    "#    'teacher': ['Ashby', 'Ashby', 'Jones', 'Jones']})"
   ]
  },
  {
   "cell_type": "code",
   "execution_count": null,
   "metadata": {},
   "outputs": [],
   "source": [
    "# completar"
   ]
  },
  {
   "cell_type": "markdown",
   "metadata": {},
   "source": [
    "Esto incluyó la columna `age`, para ignorar que podemos separar solo las columnas de prueba: "
   ]
  },
  {
   "cell_type": "code",
   "execution_count": null,
   "metadata": {},
   "outputs": [],
   "source": [
    "# completar"
   ]
  },
  {
   "cell_type": "markdown",
   "metadata": {},
   "source": [
    "Para encontrar los valores medianos de cada grupo de edad para cada maestro, simplemente agrupa por maestro y edad: \n"
   ]
  },
  {
   "cell_type": "code",
   "execution_count": null,
   "metadata": {},
   "outputs": [],
   "source": [
    "# completar"
   ]
  },
  {
   "cell_type": "markdown",
   "metadata": {},
   "source": [
    "Si queremos los puntajes mínimos y máximos de las pruebas por maestro, usamos el método `.agg` y pasamos una lista de funciones para llamar: "
   ]
  },
  {
   "cell_type": "code",
   "execution_count": null,
   "metadata": {},
   "outputs": [],
   "source": [
    "# completar"
   ]
  },
  {
   "cell_type": "markdown",
   "metadata": {},
   "source": [
    "**Ejercicio**"
   ]
  },
  {
   "cell_type": "code",
   "execution_count": null,
   "metadata": {
    "id": "pK19Cxsgm0nh"
   },
   "outputs": [],
   "source": [
    "df = pd.DataFrame({'Nombre' : ['jack', 'jane', 'jack', 'jane', 'jack', 'jane', 'jack', 'jane'],\n",
    "                   'Estado' : ['SFO', 'SFO', 'NYK', 'CA', 'NYK', 'NYK', 'SFO', 'CA'],\n",
    "                   'Genero':['A','A','B','A','C','B','C','A'],\n",
    "                   'Edad' : np.random.uniform(24, 50, size=8),\n",
    "                   'Salario' : np.random.uniform(3000, 5000, size=8),})"
   ]
  },
  {
   "cell_type": "markdown",
   "metadata": {
    "id": "jHjOj4Zxnz8r"
   },
   "source": [
    "Ten en cuenta que las columnas se ordenan automáticamente en su orden alfabético para un orden personalizado, usa el siguiente código_\n",
    "\n",
    "`df = pd.DataFrame (data, columns = ['Nombre', 'Estado', 'Edad', 'Salario'])` \n",
    "\n",
    "* Calcula la suma por nombres.\n",
    "\n",
    "* Encuentra la edad máxima y el salario por nombre/ estado. Puedes usar todas las funciones agregadas, como mínimo, máximo, media, conteo, suma acumulada."
   ]
  },
  {
   "cell_type": "code",
   "execution_count": null,
   "metadata": {
    "colab": {
     "base_uri": "https://localhost:8080/",
     "height": 238
    },
    "id": "eVwMPRL7oWCp",
    "outputId": "54601a52-ff99-4b3a-8954-10ade8dcf1c7"
   },
   "outputs": [],
   "source": [
    "# Tus  respuestas"
   ]
  },
  {
   "cell_type": "markdown",
   "metadata": {
    "id": "kn_bSynhpVw9"
   },
   "source": [
    "#### Tablas pivot\n",
    "\n",
    "Pandas proporciona una función `pivot_table` para crear una tabla pivot (dinámica )de estilo de hoja de cálculo de MS-Excel. Puede tomar los siguientes argumentos:\n",
    "\n",
    "- `data`: objeto DataFrame\n",
    "- `values`: columna para agregar\n",
    "- `index`: etiquetas de fila\n",
    "- `columns`: etiquetas de columna\n",
    "- `aggfunc`: función de agregación que se usará en valores, el valor predeterminado es `NumPy.mean`. \n",
    "\n",
    "Usando una tabla pivot, podemos generalizar ciertos comportamientos grupales. Para obtener las puntuaciones medias de los profesores, podemos ejecutar lo siguiente: "
   ]
  },
  {
   "cell_type": "code",
   "execution_count": null,
   "metadata": {},
   "outputs": [],
   "source": [
    "# completar"
   ]
  },
  {
   "cell_type": "markdown",
   "metadata": {
    "id": "t1f2aUSTq8uL"
   },
   "source": [
    "Si queremos agregar por maestro y edad, simplemente usamos una lista con ambos para el parámetro `index`: "
   ]
  },
  {
   "cell_type": "code",
   "execution_count": null,
   "metadata": {},
   "outputs": [],
   "source": [
    "#scores.pivot_table(index=['teacher', 'age'],\n",
    "#                   values=['test1', 'test2'],\n",
    "#                   aggfunc='median')"
   ]
  },
  {
   "cell_type": "markdown",
   "metadata": {},
   "source": [
    "Si queremos aplicar múltiples funciones, simplemente usa una lista de ellas. Aquí, analizamos los puntajes mínimos y máximos de las pruebas por maestro: "
   ]
  },
  {
   "cell_type": "code",
   "execution_count": null,
   "metadata": {},
   "outputs": [],
   "source": [
    "#scores.pivot_table(index='teacher',\n",
    "#                   values=['test1', 'test2'],\n",
    "#                   aggfunc=[min, max])"
   ]
  },
  {
   "cell_type": "markdown",
   "metadata": {},
   "source": [
    "Podemos ver que la tabla pivot y de grupo por comportamiento son muy similares. Hay del estilo declarativo de `.pivot_table` y el estilo  semántico de los grupos.\n",
    "\n",
    "Una característica adicional de las tablas pivots es la capacidad de agregar filas de resumen. Simplemente estableciendo `margins= True` obtenemos esta funcionalidad:"
   ]
  },
  {
   "cell_type": "code",
   "execution_count": null,
   "metadata": {},
   "outputs": [],
   "source": [
    "#scores.pivot_table(index='teacher',\n",
    "#                   values=['test1', 'test2'],\n",
    "#                   aggfunc='median', margins=True)"
   ]
  },
  {
   "cell_type": "markdown",
   "metadata": {},
   "source": [
    "<img src=\"pivot.png\" alt=\"Drawing\" style=\"width: 700px;\"/>"
   ]
  },
  {
   "cell_type": "code",
   "execution_count": null,
   "metadata": {},
   "outputs": [],
   "source": [
    "#scores.pivot_table(index= ['teacher', 'age'],\n",
    "#                   values=['test1', 'test2'],\n",
    "#                   aggfunc=[len, sum], margins=True)"
   ]
  },
  {
   "cell_type": "markdown",
   "metadata": {},
   "source": [
    "<img src=\"pivot-parameters.png\" alt=\"Drawing\" style=\"width: 700px;\"/>"
   ]
  },
  {
   "cell_type": "markdown",
   "metadata": {},
   "source": [
    "**Ejercicio** Del dataframe anterior agrupa por estado y nombre y encuentre la edad media para cada grado.\n"
   ]
  },
  {
   "cell_type": "code",
   "execution_count": null,
   "metadata": {},
   "outputs": [],
   "source": [
    "## Tu respuesta"
   ]
  },
  {
   "cell_type": "code",
   "execution_count": null,
   "metadata": {},
   "outputs": [],
   "source": []
  }
 ],
 "metadata": {
  "colab": {
   "collapsed_sections": [],
   "name": "Capitulo2B.ipynb",
   "provenance": []
  },
  "kernelspec": {
   "display_name": "Python 3",
   "language": "python",
   "name": "python3"
  },
  "language_info": {
   "codemirror_mode": {
    "name": "ipython",
    "version": 3
   },
   "file_extension": ".py",
   "mimetype": "text/x-python",
   "name": "python",
   "nbconvert_exporter": "python",
   "pygments_lexer": "ipython3",
   "version": "3.7.10"
  }
 },
 "nbformat": 4,
 "nbformat_minor": 1
}
